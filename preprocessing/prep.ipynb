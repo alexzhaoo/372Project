{
 "cells": [
  {
   "cell_type": "code",
   "execution_count": 1,
   "metadata": {},
   "outputs": [
    {
     "name": "stderr",
     "output_type": "stream",
     "text": [
      "/var/folders/34/4m3rx1zd32dgvl3g8t313g900000gn/T/ipykernel_21740/1708142390.py:5: FutureWarning: The error_bad_lines argument has been deprecated and will be removed in a future version. Use on_bad_lines in the future.\n",
      "\n",
      "\n",
      "  df = pd.read_csv(\"../nasdaq_exteral_data.csv\", error_bad_lines=False, warn_bad_lines=False, engine='python', encoding='utf-8')\n",
      "/var/folders/34/4m3rx1zd32dgvl3g8t313g900000gn/T/ipykernel_21740/1708142390.py:5: FutureWarning: The warn_bad_lines argument has been deprecated and will be removed in a future version. Use on_bad_lines in the future.\n",
      "\n",
      "\n",
      "  df = pd.read_csv(\"../nasdaq_exteral_data.csv\", error_bad_lines=False, warn_bad_lines=False, engine='python', encoding='utf-8')\n"
     ]
    }
   ],
   "source": [
    "import pandas as pd\n",
    "\n",
    "\n",
    "\n",
    "df = pd.read_csv(\"../nasdaq_exteral_data.csv\", error_bad_lines=False, warn_bad_lines=False, engine='python', encoding='utf-8')\n",
    "\n",
    "\n"
   ]
  },
  {
   "cell_type": "code",
   "execution_count": null,
   "metadata": {},
   "outputs": [
    {
     "name": "stdout",
     "output_type": "stream",
     "text": [
      "        date    volume   open    high     low  close  adj close Stock_symbol\n",
      "0 2023-12-28  196100.0  11.06  11.100  10.930  11.00      11.00          RIV\n",
      "1 2023-12-27   64900.0  11.09  11.150  11.090  11.11      11.11          RIV\n",
      "2 2023-12-26  180600.0  11.13  11.149  10.975  11.13      11.13          RIV\n",
      "3 2023-12-22  100700.0  11.15  11.200  11.110  11.12      11.12          RIV\n",
      "4 2023-12-21   68400.0  11.32  11.320  11.140  11.19      11.19          RIV\n"
     ]
    },
    {
     "ename": "",
     "evalue": "",
     "output_type": "error",
     "traceback": [
      "\u001b[1;31mThe Kernel crashed while executing code in the current cell or a previous cell. \n",
      "\u001b[1;31mPlease review the code in the cell(s) to identify a possible cause of the failure. \n",
      "\u001b[1;31mClick <a href='https://aka.ms/vscodeJupyterKernelCrash'>here</a> for more info. \n",
      "\u001b[1;31mView Jupyter <a href='command:jupyter.viewOutput'>log</a> for further details."
     ]
    }
   ],
   "source": [
    "import os\n",
    "\n",
    "\n",
    "df['Date'] = pd.to_datetime(df['Date'] , errors='coerce')\n",
    "\n",
    "news = df[['Date', 'Article_title', 'Stock_symbol','Article']]\n",
    "\n",
    "news.dropna()\n",
    "\n",
    "stock_price_dir = \"../full_history\"\n",
    "\n",
    "stock_price_dfs = [] \n",
    "\n",
    "for file in os.listdir(stock_price_dir):\n",
    "\n",
    "    symbol = file.replace(\".csv\", \"\")\n",
    "    df = pd.read_csv(os.path.join(stock_price_dir, file))\n",
    "    df['Stock_symbol'] = symbol\n",
    "    stock_price_dfs.append(df)\n",
    "\n",
    "stock_df = pd.concat(stock_price_dfs, ignore_index = True)\n",
    "\n",
    "stock_df[\"date\"] = pd.to_datetime(stock_df[\"date\"])\n",
    "\n",
    "print(stock_df.head())\n",
    "\n",
    "\n",
    "\n",
    "\n",
    "\n",
    "\n"
   ]
  },
  {
   "cell_type": "code",
   "execution_count": null,
   "metadata": {},
   "outputs": [],
   "source": [
    "merged_df = pd.merge_asof(\n",
    "    news.sort_values([\"Stock_symbol\", \"Date\"]),\n",
    "    stock_df.sort_values([\"Stock_symbol\", \"date\"]),\n",
    "    by=\"Stock_symbol\",\n",
    "    left_on=\"Date\",\n",
    "    right_on=\"date\",\n",
    "    direction=\"backward\"  # Get the most recent stock price before the news\n",
    ")\n",
    "\n",
    "print(merged_df.head())"
   ]
  }
 ],
 "metadata": {
  "kernelspec": {
   "display_name": "base",
   "language": "python",
   "name": "python3"
  },
  "language_info": {
   "codemirror_mode": {
    "name": "ipython",
    "version": 3
   },
   "file_extension": ".py",
   "mimetype": "text/x-python",
   "name": "python",
   "nbconvert_exporter": "python",
   "pygments_lexer": "ipython3",
   "version": "3.9.13"
  }
 },
 "nbformat": 4,
 "nbformat_minor": 2
}
