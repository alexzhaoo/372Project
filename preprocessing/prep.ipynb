{
 "cells": [
  {
   "cell_type": "code",
   "execution_count": null,
   "metadata": {},
   "outputs": [],
   "source": [
    "import pandas as pd\n",
    "import csv\n",
    "import torch\n",
    "\n",
    "df = pd.read_csv(\"../nasdaq_exteral_data.csv\", error_bad_lines=False, warn_bad_lines=False, engine='python', encoding='utf-8')\n",
    "\n",
    "\n"
   ]
  },
  {
   "cell_type": "code",
   "execution_count": null,
   "metadata": {},
   "outputs": [],
   "source": [
    "from transformers import AutoTokenizer, AutoModelForSequenceClassification\n",
    "from transformers.utils import logging\n",
    "\n",
    "logging.set_verbosity_info()\n",
    "\n",
    "print(\"Downloading tokenizer...\")\n",
    "tokenizer = AutoTokenizer.from_pretrained(\"yiyanghkust/finbert-tone\")\n",
    "print(\"Tokenizer loaded.\")\n",
    "\n",
    "print(\"Downloading model...\")\n",
    "model = AutoModelForSequenceClassification.from_pretrained(\"yiyanghkust/finbert-tone\", force_download=True)\n",
    "print(\"Model loaded.\")\n"
   ]
  },
  {
   "cell_type": "code",
   "execution_count": null,
   "metadata": {},
   "outputs": [],
   "source": [
    "import os\n",
    "\n",
    "df['Date'] = df['Date'].str[:10]\n",
    "\n",
    "\n",
    "df['Date'] = pd.to_datetime(df['Date'], errors='coerce')\n",
    "\n",
    "print(df.head())\n",
    "\n",
    "\n",
    "news = df[['Date', 'Article_title', 'Stock_symbol', 'Article']]\n",
    "\n",
    "\n",
    "news = news.dropna()\n",
    "\n",
    "stock_price_dir = \"../full_history\"\n",
    "\n",
    "stock_price_dfs = []\n",
    "\n",
    "for file in os.listdir(stock_price_dir):\n",
    "    symbol = file.replace(\".csv\", \"\")\n",
    "    df = pd.read_csv(os.path.join(stock_price_dir, file))\n",
    "    df['Stock_symbol'] = symbol\n",
    "    stock_price_dfs.append(df)\n",
    "\n",
    "stock_df = pd.concat(stock_price_dfs, ignore_index=True)\n",
    "\n",
    "stock_df[\"date\"] = pd.to_datetime(stock_df[\"date\"], errors='coerce')\n",
    "\n"
   ]
  },
  {
   "cell_type": "code",
   "execution_count": null,
   "metadata": {},
   "outputs": [],
   "source": [
    "news['Date'] = pd.to_datetime(news['Date'], errors='coerce')\n",
    "stock_df['date'] = pd.to_datetime(stock_df['date'], errors='coerce')\n",
    "\n",
    "stock_df = stock_df.rename(columns={'date' : 'Date'})\n",
    "\n",
    "# Clear the DataFrame before merging new DataFrames\n",
    "merged_df = None\n",
    "\n",
    "news = news.sort_values('Date')\n",
    "stock_df = stock_df.sort_values('Date')\n",
    "\n",
    "merged_df = pd.merge_asof(\n",
    "    news,\n",
    "    stock_df,\n",
    "    by=\"Stock_symbol\",\n",
    "    on=\"Date\",\n",
    "    direction=\"backward\"\n",
    ")\n",
    "\n",
    "print(merged_df.head())"
   ]
  },
  {
   "cell_type": "code",
   "execution_count": null,
   "metadata": {},
   "outputs": [],
   "source": [
    "print(\"YUH\")\n",
    "\n",
    "\n",
    "# Load the tokenizer and model\n",
    "tokenizer = AutoTokenizer.from_pretrained(\"yiyanghkust/finbert-tone\")\n",
    "model = AutoModelForSequenceClassification.from_pretrained(\"yiyanghkust/finbert-tone\")\n",
    "print(\"Model loaded???\")\n",
    "# Move the model to the appropriate device (CPU or GPU)\n",
    "device = torch.device(\"cuda\" if torch.cuda.is_available() else \"cpu\")\n",
    "model.to(device)\n",
    "print(\"Model loaded\")\n",
    "def get_sent_batch(texts):\n",
    "    # Tokenize the input texts\n",
    "    print(\"dawg\")\n",
    "    inputs = tokenizer(texts, padding=True, truncation=True, return_tensors=\"pt\")\n",
    "    print(\"gang\")\n",
    "    inputs = {key: value.to(device) for key, value in inputs.items()}\n",
    "    print(\"hi\")\n",
    "    # Perform inference without gradient calculation\n",
    "    with torch.no_grad():\n",
    "        outputs = model(**inputs)\n",
    "    print(\"hello\")\n",
    "    # Compute probabilities\n",
    "    probs = torch.nn.functional.softmax(outputs.logits, dim=-1).tolist()\n",
    "    print(\"yuh\")\n",
    "    # Determine sentiments based on probabilities\n",
    "    sentiments = [\"positive\" if p[2] > p[0] else \"negative\" for p in probs]\n",
    "    return sentiments\n",
    "\n",
    "testing = \"The stock market is performign well right now\"\n",
    "print(get_sent_batch([testing]))\n",
    "\n",
    "print(\"ADOAJSDOIJ\")\n",
    "# Test the function with a sample text\n",
    "test_text = merged_df.iloc[0]['Article_title']\n",
    "print(get_sent_batch([test_text]))"
   ]
  }
 ],
 "metadata": {
  "kernelspec": {
   "display_name": "base",
   "language": "python",
   "name": "python3"
  },
  "language_info": {
   "codemirror_mode": {
    "name": "ipython",
    "version": 3
   },
   "file_extension": ".py",
   "mimetype": "text/x-python",
   "name": "python",
   "nbconvert_exporter": "python",
   "pygments_lexer": "ipython3",
   "version": "3.9.13"
  }
 },
 "nbformat": 4,
 "nbformat_minor": 2
}
